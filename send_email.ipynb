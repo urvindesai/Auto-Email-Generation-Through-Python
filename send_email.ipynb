{
 "cells": [
  {
   "cell_type": "code",
   "execution_count": 2,
   "metadata": {},
   "outputs": [],
   "source": [
    "import smtplib # to fix the protocol for servers to exchange messages. It's simple mail transfer protocol\n",
    "import getpass  # for password\n",
    "from email.mime.text import MIMEText  # to send email body, to, from etc\n",
    "\n",
    "def send_email():\n",
    "    \n",
    "    sender_address = 'uduvdesai@gmail.com'\n",
    "    password = getpass.getpass()\n",
    "    subject = 'AI Mafia - Machine Learning'\n",
    "    msg = '''\n",
    "       Hello Everyone! \n",
    "       This is an auto-generated email through python.\n",
    "       Hope you will enjoy!\n",
    "       \n",
    "       Thanks and Regards,\n",
    "       Urvin Desai.\n",
    "    '''\n",
    "    \n",
    "    # server initialization \n",
    "    server = smtplib.SMTP('smtp.gmail.com', 587)  # 587 is the port number. we are initiating the server here. We are using gmail that's why gmail.\n",
    "    # Here, we have allowed the connection for smtp host.\n",
    "    \n",
    "    server.starttls()   # tls is a kind of handshake which will allow the connection.\n",
    "    server.login(sender_address, password)  # this is where we are logging in\n",
    "    recipients = 'urvindilipdesai@gmail.com'  # If I want to send email to multiple email ids then store it as a list like ['uduvdesai@gmail.com', 'urvindilipdesai@gmail.com']\n",
    "    \n",
    "    # draft my message body. Here, we are initializing MIMEText object so we will send this object to the server.\n",
    "    msg = MIMEText(msg)\n",
    "    msg['Subject'] = subject\n",
    "    msg['From'] = sender_address\n",
    "    msg['To'] = 'urvindilipdesai@gmail.com'\n",
    "    # msg['To'] = \", \".join(recipients)  this will work here in case of multiple recipients. This is just a string though. Main thing is when we are calling sendmail below.\n",
    "    msg.set_param('importance', 'high value')  # this is optional\n",
    "    \n",
    "    server.sendmail(sender_address, recipients, msg.as_string())\n",
    "    \n",
    "\n",
    "\n",
    "    \n",
    "\n",
    "        \n",
    "    \n"
   ]
  },
  {
   "cell_type": "code",
   "execution_count": 4,
   "metadata": {},
   "outputs": [
    {
     "name": "stdout",
     "output_type": "stream",
     "text": [
      "········\n"
     ]
    }
   ],
   "source": [
    "send_email()"
   ]
  },
  {
   "cell_type": "code",
   "execution_count": null,
   "metadata": {},
   "outputs": [],
   "source": []
  }
 ],
 "metadata": {
  "kernelspec": {
   "display_name": "Python 3",
   "language": "python",
   "name": "python3"
  }
 },
 "nbformat": 4,
 "nbformat_minor": 4
}
